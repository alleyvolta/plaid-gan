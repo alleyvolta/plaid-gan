{
 "cells": [
  {
   "cell_type": "markdown",
   "metadata": {},
   "source": [
    "Alan Vitullo \n",
    "\n",
    "© 2021"
   ]
  },
  {
   "cell_type": "code",
   "execution_count": 15,
   "metadata": {},
   "outputs": [],
   "source": [
    "import os \n",
    "os.environ[\"KERAS_BACKEND\"] = \"plaidml.keras.backend\"\n",
    "\n",
    "#\n",
    "GENERATE_RES = 2\n",
    "GENERATE_SQUARE = 32 * GENERATE_RES\n",
    "\n",
    "IMAGE_CHANNELS = 3\n",
    "\n",
    "# Preview image \n",
    "PREVIEW_ROWS = 4\n",
    "PREVIEW_COLS = 7\n",
    "PREVIEW_MARGIN = 16\n",
    "\n",
    "SEED_SIZE = 100\n",
    "SAVE_FREQ = 5\n",
    "\n",
    "BATCH_SIZE = 32\n",
    "BUFFER_SIZE = 64\n",
    "\n",
    "EPOCHS = 100"
   ]
  },
  {
   "cell_type": "code",
   "execution_count": 10,
   "metadata": {},
   "outputs": [],
   "source": [
    "import time\n",
    "import numpy as np\n",
    "from tqdm import tqdm\n",
    "from PIL import Image\n",
    "\n",
    "# Nicely formatted time string\n",
    "def hms_string(sec_elapsed):\n",
    "    h = int(sec_elapsed / (60 * 60))\n",
    "    m = int((sec_elapsed % (60 * 60)) / 60)\n",
    "    s = sec_elapsed % 60\n",
    "    return \"{}:{:>02}:{:>05.2f}\".format(h, m, s)\n",
    "\n",
    "#\n",
    "def save_images(cnt,noise):\n",
    "  image_array = np.full(( \n",
    "      PREVIEW_MARGIN + (PREVIEW_ROWS * (GENERATE_SQUARE+PREVIEW_MARGIN)), \n",
    "      PREVIEW_MARGIN + (PREVIEW_COLS * (GENERATE_SQUARE+PREVIEW_MARGIN)), 3), \n",
    "      255, dtype=np.uint8)\n",
    "  \n",
    "  generated_images = generator.predict(noise)\n",
    "\n",
    "  generated_images = 0.5 * generated_images + 0.5\n",
    "\n",
    "  image_count = 0\n",
    "  for row in range(PREVIEW_ROWS):\n",
    "      for col in range(PREVIEW_COLS):\n",
    "        r = row * (GENERATE_SQUARE+16) + PREVIEW_MARGIN\n",
    "        c = col * (GENERATE_SQUARE+16) + PREVIEW_MARGIN\n",
    "        image_array[r:r+GENERATE_SQUARE,c:c+GENERATE_SQUARE] \\\n",
    "            = generated_images[image_count] * 255\n",
    "        image_count += 1\n",
    "\n",
    "          \n",
    "  output_path = os.path.join(DATA_PATH,'output')\n",
    "  if not os.path.exists(output_path):\n",
    "    os.makedirs(output_path)\n",
    "  \n",
    "  filename = os.path.join(output_path,f\"train-{cnt}.jpg\")\n",
    "  im = Image.fromarray(image_array)\n",
    "  im.save(filename)"
   ]
  },
  {
   "cell_type": "code",
   "execution_count": 18,
   "metadata": {},
   "outputs": [
    {
     "name": "stdout",
     "output_type": "stream",
     "text": [
      "Looking for file: /Users/adev/Documents/CE/source/anaconda/ml/plaid/training_data_64_64.npy\n",
      "Loading previous training binary...\n"
     ]
    }
   ],
   "source": [
    "#Training Data Configuration\n",
    "DATA_PATH = '/Users/adev/Documents/CE/source/anaconda/ml/plaid/'\n",
    "\n",
    "training_binary_path = os.path.join(DATA_PATH,\n",
    "        f'training_data_{GENERATE_SQUARE}_{GENERATE_SQUARE}.npy')\n",
    "\n",
    "print(f\"Looking for file: {training_binary_path}\")\n",
    "\n",
    "if not os.path.isfile(training_binary_path):\n",
    "  start = time.time()\n",
    "  print(\"Loading training images...\")\n",
    "\n",
    "  training_data = []\n",
    "  faces_path = os.path.join(DATA_PATH,'face_images')\n",
    "  for filename in tqdm(os.listdir(faces_path)):\n",
    "      path = os.path.join(faces_path,filename)\n",
    "      image = Image.open(path).resize((GENERATE_SQUARE,\n",
    "            GENERATE_SQUARE),Image.ANTIALIAS)\n",
    "      training_data.append(np.asarray(image))\n",
    "  training_data = np.reshape(training_data,(-1,GENERATE_SQUARE,\n",
    "            GENERATE_SQUARE,IMAGE_CHANNELS))\n",
    "  training_data = training_data.astype(np.float32)\n",
    "  training_data = training_data / 127.5 - 1.\n",
    "\n",
    "\n",
    "  print(\"Saving training image binary...\")\n",
    "  np.save(training_binary_path,training_data)\n",
    "  elapsed = time.time()-start\n",
    "  print (f'Image preprocess time: {hms_string(elapsed)}')\n",
    "else:\n",
    "  print(\"Loading previous training binary...\")\n",
    "  training_data = np.load(training_binary_path)"
   ]
  },
  {
   "cell_type": "code",
   "execution_count": 19,
   "metadata": {},
   "outputs": [],
   "source": [
    "import tensorflow as tf\n",
    "print(tf.__version__)\n",
    "\n",
    "# Batch and shuffle the data\n",
    "train_dataset = tf.data.Dataset.from_tensor_slices(training_data) \\\n",
    "    .shuffle(BUFFER_SIZE).batch(BATCH_SIZE)"
   ]
  },
  {
   "cell_type": "code",
   "execution_count": null,
   "metadata": {},
   "outputs": [],
   "source": [
    "import keras\n",
    "import keras.applications as kapp\n",
    "from keras.layers import Input\n",
    "from keras.models import Sequential, Model\n",
    "from keras.layers import Dense, Dropout, Flatten\n",
    "from keras.layers import Conv2D, MaxPooling2D, LeakyReLU\n",
    "from keras.layers import Reshape, Conv2DTranspose, SeparableConv2D, ZeroPadding2D\n",
    "from keras.optimizers import SGD, Adadelta, Adam\n",
    "from keras_preprocessing.image import ImageDataGenerator\n",
    "from keras.layers import UpSampling2D, BatchNormalization, Activation\n",
    "\n",
    "# Optimizers\n",
    "adam = Adam(0.0002, 0.5)\n",
    "sgd = SGD(lr=1e-2, decay=1e-6, momentum=0.9, nesterov=True)\n",
    "adelta = Adadelta(lr=1.0, rho=0.95, epsilon=None, decay=0.0)"
   ]
  },
  {
   "cell_type": "code",
   "execution_count": 2,
   "metadata": {},
   "outputs": [],
   "source": [
    "# Generator - \n",
    "def build_generator(seed_size):\n",
    "    model = Sequential()\n",
    "\n",
    "    model.add(Dense(4*4*256,activation=\"relu\",input_dim=seed_size))\n",
    "    model.add(Reshape((4,4,256)))\n",
    "\n",
    "    model.add(UpSampling2D())\n",
    "    model.add(Conv2D(256,kernel_size=3,padding=\"same\"))\n",
    "    model.add(BatchNormalization(momentum=0.8))\n",
    "    model.add(Activation(\"relu\"))\n",
    "\n",
    "    model.add(UpSampling2D())\n",
    "    model.add(Conv2D(256,kernel_size=3,padding=\"same\"))\n",
    "    model.add(BatchNormalization(momentum=0.8))\n",
    "    model.add(Activation(\"relu\"))\n",
    "   \n",
    "    # Output resolution, additional upsampling\n",
    "    model.add(UpSampling2D())\n",
    "    model.add(Conv2D(128,kernel_size=3,padding=\"same\"))\n",
    "    model.add(BatchNormalization(momentum=0.8))\n",
    "    model.add(Activation(\"relu\"))\n",
    "\n",
    "    if GENERATE_RES>1:\n",
    "      model.add(UpSampling2D(size=(GENERATE_RES,GENERATE_RES)))\n",
    "      model.add(Conv2D(128,kernel_size=3,padding=\"same\"))\n",
    "      model.add(BatchNormalization(momentum=0.8))\n",
    "      model.add(Activation(\"relu\"))\n",
    "\n",
    "    # Final CNN layer\n",
    "    model.add(Conv2D(3,kernel_size=3,padding=\"same\"))\n",
    "    model.add(Activation(\"tanh\"))\n",
    "\n",
    "    return model"
   ]
  },
  {
   "cell_type": "code",
   "execution_count": 3,
   "metadata": {},
   "outputs": [],
   "source": [
    "# Discriminator - \n",
    "def build_discriminator(img_shape):\n",
    "    discriminator = Sequential()\n",
    "\n",
    "    discriminator.add(Conv2D(32, kernel_size=3, strides=2, input_shape=img_shape, padding=\"same\"))\n",
    "    discriminator.add(LeakyReLU(alpha=0.2))\n",
    "    discriminator.add(Dropout(0.25))\n",
    "\n",
    "    discriminator.add(Conv2D(64, kernel_size=3, strides=2, padding=\"same\"))\n",
    "    discriminator.add(ZeroPadding2D(padding=((0,1),(0,1))))\n",
    "    discriminator.add(BatchNormalization(momentum=0.8))\n",
    "    discriminator.add(LeakyReLU(alpha=0.2))\n",
    "    discriminator.add(Dropout(0.25))\n",
    "\n",
    "    discriminator.add(Conv2D(128, kernel_size=3, strides=2, padding=\"same\"))\n",
    "    discriminator.add(BatchNormalization(momentum=0.8))\n",
    "    discriminator.add(LeakyReLU(alpha=0.2))\n",
    "    discriminator.add(Dropout(0.25))\n",
    "\n",
    "    discriminator.add(Conv2D(256, kernel_size=3, strides=1, padding=\"same\"))\n",
    "    discriminator.add(BatchNormalization(momentum=0.8))\n",
    "    discriminator.add(LeakyReLU(alpha=0.2))\n",
    "    discriminator.add(Dropout(0.25))\n",
    "\n",
    "    discriminator.add(Flatten())\n",
    "    discriminator.add(Dense(1, activation='sigmoid'))\n",
    "\n",
    "    #discriminator.summary()\n",
    "    \n",
    "    input_img = Input(shape=img_shape)\n",
    "    \n",
    "    validity = discriminator(input_img)\n",
    "    \n",
    "    return Model(input_img, validity)"
   ]
  },
  {
   "cell_type": "code",
   "execution_count": 11,
   "metadata": {},
   "outputs": [],
   "source": [
    "# Compile Discriminator & Combined Models\n",
    "image_shape = (GENERATE_SQUARE, GENERATE_SQUARE, IMAGE_CHANNELS)\n",
    "\n",
    "discriminator = build_discriminator(image_shape)\n",
    "discriminator.compile(loss='binary_crossentropy', optimizer=adam, metrics=[\"accuracy\"])\n",
    "generator = build_generator(SEED_SIZE)\n",
    "\n",
    "random_input = Input(shape=(SEED_SIZE,))\n",
    "\n",
    "generated_image = generator(random_input)\n",
    "\n",
    "discriminator.trainable = False\n",
    "\n",
    "validity = discriminator(generated_image)\n",
    "\n",
    "combined = Model(random_input, validity)\n",
    "combined.compile(loss='binary_crossentropy', optimizer=adam, metrics=[\"accuracy\"])"
   ]
  },
  {
   "cell_type": "code",
   "execution_count": 24,
   "metadata": {},
   "outputs": [
    {
     "data": {
      "text/plain": [
       "<matplotlib.image.AxesImage at 0x7fb85ab83080>"
      ]
     },
     "execution_count": 24,
     "metadata": {},
     "output_type": "execute_result"
    },
    {
     "data": {
      "image/png": "[encoded data removed]",
      "text/plain": [
       "<Figure size 432x288 with 1 Axes>"
      ]
     },
     "metadata": {
      "needs_background": "light"
     },
     "output_type": "display_data"
    }
   ],
   "source": [
    "import matplotlib.pyplot as plt\n",
    "import matplotlib.image as mpimg\n",
    "\n",
    "noise = np.random.random([1, 100])\n",
    "gen_img = generator.predict(noise)\n",
    "\n",
    "plt.imshow(gen_img[0, :, :, 0])"
   ]
  },
  {
   "cell_type": "code",
   "execution_count": 25,
   "metadata": {},
   "outputs": [
    {
     "name": "stderr",
     "output_type": "stream",
     "text": [
      "INFO:plaidml:Analyzing Ops: 465 of 591 operations complete\n",
      "INFO:plaidml:Analyzing Ops: 465 of 591 operations complete\n",
      "INFO:plaidml:Analyzing Ops: 498 of 999 operations complete\n",
      "INFO:plaidml:Analyzing Ops: 498 of 999 operations complete\n"
     ]
    },
    {
     "name": "stdout",
     "output_type": "stream",
     "text": [
      "Epoch 0, DA: 0.296875), GA: 0.78125\n",
      "Epoch 5, DA: 0.46875), GA: 0.21875\n",
      "Epoch 10, DA: 0.640625), GA: 0.28125\n",
      "Epoch 15, DA: 0.765625), GA: 0.03125\n",
      "Epoch 20, DA: 0.90625), GA: 0.0\n",
      "Epoch 25, DA: 0.96875), GA: 0.03125\n",
      "Epoch 30, DA: 0.90625), GA: 0.8125\n",
      "Epoch 35, DA: 0.875), GA: 0.9375\n",
      "Epoch 40, DA: 0.828125), GA: 0.0\n",
      "Epoch 45, DA: 0.921875), GA: 0.09375\n",
      "Epoch 50, DA: 0.953125), GA: 0.0625\n",
      "Epoch 55, DA: 0.984375), GA: 0.0\n",
      "Epoch 60, DA: 0.984375), GA: 0.0\n",
      "Epoch 65, DA: 0.984375), GA: 0.0\n",
      "Epoch 70, DA: 0.96875), GA: 0.0\n",
      "Epoch 75, DA: 0.921875), GA: 0.0\n",
      "Epoch 80, DA: 0.984375), GA: 0.0\n",
      "Epoch 85, DA: 0.90625), GA: 0.0\n",
      "Epoch 90, DA: 0.984375), GA: 0.0\n",
      "Epoch 95, DA: 1.0), GA: 0.0\n"
     ]
    }
   ],
   "source": [
    "# Training\n",
    "y_real = np.ones((BATCH_SIZE,1))\n",
    "y_fake = np.zeros((BATCH_SIZE,1))\n",
    "\n",
    "fixed_seed = np.random.normal(0, 1, (PREVIEW_ROWS * PREVIEW_COLS, SEED_SIZE))\n",
    "\n",
    "count = 1\n",
    "\n",
    "for epoch in range(EPOCHS):\n",
    "    index = np.random.randint(0, training_data.shape[0], BATCH_SIZE)\n",
    "    x_real = training_data[index]\n",
    "    \n",
    "    seed = np.random.normal(0, 1, (BATCH_SIZE, SEED_SIZE))\n",
    "    x_fake = generator.predict(seed)\n",
    "    \n",
    "    discriminator_metric_real = discriminator.train_on_batch(x_real, y_real)\n",
    "    discriminator_metric_generated = discriminator.train_on_batch(x_fake, y_fake)\n",
    "    discriminator_metric = 0.5 * np.add(discriminator_metric_real,discriminator_metric_generated)\n",
    "    \n",
    "    generator_metric = combined.train_on_batch(seed, y_real)\n",
    "    \n",
    "    if epoch % SAVE_FREQ == 0:\n",
    "        save_images(count, fixed_seed)\n",
    "        count += 1\n",
    "        print(f'Epoch {epoch}, DA: {discriminator_metric[1]}), GA: {generator_metric[1]}')\n",
    "    \n",
    "generator.save(os.path.join(DATA_PATH, \"face_generator.h5\"))"
   ]
  },
  {
   "cell_type": "code",
   "execution_count": 35,
   "metadata": {},
   "outputs": [
    {
     "data": {
      "text/plain": [
       "<matplotlib.image.AxesImage at 0x7fb84de5f4a8>"
      ]
     },
     "execution_count": 35,
     "metadata": {},
     "output_type": "execute_result"
    },
    {
     "data": {
      "image/png": "[encoded data removed]",
      "text/plain": [
       "<Figure size 432x288 with 1 Axes>"
      ]
     },
     "metadata": {
      "needs_background": "light"
     },
     "output_type": "display_data"
    }
   ],
   "source": [
    "# \n",
    "noise = np.random.random([1, 100])\n",
    "gen_img = generator.predict(noise)\n",
    "\n",
    "plt.imshow(gen_img[0, :, :, 0])"
   ]
  },
  {
   "cell_type": "code",
   "execution_count": 16,
   "metadata": {},
   "outputs": [
    {
     "data": {
      "image/png": "[encoded data removed]",
      "text/plain": [
       "<Figure size 432x288 with 1 Axes>"
      ]
     },
     "metadata": {
      "needs_background": "light"
     },
     "output_type": "display_data"
    }
   ],
   "source": [
    "from keras.utils import plot_model\n",
    "\n",
    "plot_model(generator, to_file='model.png')\n",
    "img=mpimg.imread('model.png')\n",
    "imgplot = plt.imshow(img)"
   ]
  },
  {
   "cell_type": "code",
   "execution_count": 13,
   "metadata": {},
   "outputs": [
    {
     "data": {
      "image/png": "[encoded data removed]",
      "text/plain": [
       "<Figure size 432x288 with 1 Axes>"
      ]
     },
     "metadata": {
      "needs_background": "light"
     },
     "output_type": "display_data"
    }
   ],
   "source": [
    "plot_model(discriminator, to_file='model.png')\n",
    "img=mpimg.imread('model.png')\n",
    "imgplot = plt.imshow(img)"
   ]
  },
  {
   "cell_type": "code",
   "execution_count": 14,
   "metadata": {},
   "outputs": [
    {
     "data": {
      "image/png": "[encoded data removed]",
      "text/plain": [
       "<Figure size 432x288 with 1 Axes>"
      ]
     },
     "metadata": {
      "needs_background": "light"
     },
     "output_type": "display_data"
    }
   ],
   "source": [
    "plot_model(combined, to_file='model.png')\n",
    "img=mpimg.imread('model.png')\n",
    "imgplot = plt.imshow(img)"
   ]
  },
  {
   "cell_type": "code",
   "execution_count": 8,
   "metadata": {},
   "outputs": [],
   "source": [
    "def build_generator(seed_size):\n",
    "    # generator\n",
    "    generator = Sequential()\n",
    "\n",
    "    gen_dense_nodes = 8*8*32\n",
    "\n",
    "    #dense\n",
    "    gen_layer1_dense = Dense(gen_dense_nodes, activation='relu', input_dim=seed_size)\n",
    "    generator.add(gen_layer1_dense)\n",
    "\n",
    "    #reshape\n",
    "    gen_layer3_reshape = Reshape(((8, 8, 32)))\n",
    "    generator.add(gen_layer3_reshape)\n",
    "    print(generator.output_shape)\n",
    "\n",
    "    #basic details\n",
    "    gen_layer3_dc = Conv2DTranspose(32, (3, 3), activation='relu', dilation_rate=1, strides=1)\n",
    "    generator.add(gen_layer3_dc)\n",
    "    print(generator.output_shape)\n",
    "    gen_layer4_dc = Conv2DTranspose(32, (3, 3), activation='relu', dilation_rate=1, strides=1)\n",
    "    generator.add(gen_layer4_dc)\n",
    "    print(generator.output_shape)\n",
    "    gen_layer5_dc = Conv2DTranspose(32, (3, 3), activation='relu', dilation_rate=1, strides=1)\n",
    "    generator.add(gen_layer5_dc)\n",
    "    print(generator.output_shape)\n",
    "\n",
    "    #enlarge 1\n",
    "    gen_layer6_dc = Conv2DTranspose(32, (5, 5), activation='relu', dilation_rate=1, strides=1)\n",
    "    generator.add(gen_layer6_dc)\n",
    "    print(generator.output_shape)\n",
    "    gen_layer7_dc = Conv2DTranspose(32, (3, 3), activation='relu', dilation_rate=2, strides=1)\n",
    "    generator.add(gen_layer7_dc)\n",
    "    print(generator.output_shape)\n",
    "\n",
    "    #inspection 1\n",
    "    gen_layer8_conv2d = Conv2D(32, (3, 3), activation='relu', dilation_rate=1, strides=1)\n",
    "    generator.add(gen_layer8_conv2d)\n",
    "    print(generator.output_shape)\n",
    "\n",
    "    #mid details\n",
    "    gen_layer9_dc = Conv2DTranspose(32, (3, 3), activation='relu', dilation_rate=1, strides=1)\n",
    "    generator.add(gen_layer9_dc)\n",
    "    print(generator.output_shape)\n",
    "    gen_layer10_dc = Conv2DTranspose(32, (3, 3), activation='relu', dilation_rate=1, strides=1)\n",
    "    generator.add(gen_layer10_dc)\n",
    "    print(generator.output_shape)\n",
    "\n",
    "    #enlarge 2\n",
    "    gen_layer11_dc = Conv2DTranspose(32, (5, 5), activation='relu', dilation_rate=1, strides=1)\n",
    "    generator.add(gen_layer11_dc)\n",
    "    print(generator.output_shape)\n",
    "    gen_layer12_dc = Conv2DTranspose(32, (3, 3), activation='relu', dilation_rate=2, strides=1)\n",
    "    generator.add(gen_layer12_dc)\n",
    "    print(generator.output_shape)\n",
    "\n",
    "    #inspection 2\n",
    "    gen_layer13_conv2d = Conv2D(32, (3, 3), activation='relu')\n",
    "    generator.add(gen_layer13_conv2d)\n",
    "    print(generator.output_shape)\n",
    "\n",
    "    #finer details\n",
    "    gen_layer14_dc = Conv2DTranspose(32, (3, 3), activation='relu', dilation_rate=1, strides=1)\n",
    "    generator.add(gen_layer14_dc)\n",
    "    print(generator.output_shape)\n",
    "    gen_layer15_dc = Conv2DTranspose(32, (3, 3), activation='relu', dilation_rate=1, strides=1)\n",
    "    generator.add(gen_layer15_dc)\n",
    "    print(generator.output_shape)\n",
    "\n",
    "\n",
    "    #output\n",
    "    gen_layer19_dc = Conv2DTranspose(24, (3, 3), activation='relu', dilation_rate=1, strides=1)\n",
    "    generator.add(gen_layer19_dc)\n",
    "    print(generator.output_shape)\n",
    "    gen_layer20_dc = Conv2DTranspose(8, (3, 3), activation='relu', dilation_rate=1, strides=1)\n",
    "    generator.add(gen_layer20_dc)\n",
    "    print(generator.output_shape)\n",
    "    gen_layer21_dc = Conv2DTranspose(3, (3, 3), activation='relu', dilation_rate=1, strides=1)\n",
    "    generator.add(gen_layer21_dc)\n",
    "    print(generator.output_shape)\n",
    "\n",
    "    #generator.summary()\n",
    "    \n",
    "    gen_input = Input(shape=(seed_size,))\n",
    "    gen_img = generator(gen_input)\n",
    "    \n",
    "    return Model(gen_input,gen_img)"
   ]
  }
 ],
 "metadata": {
  "kernelspec": {
   "display_name": "Python 3",
   "language": "python",
   "name": "python3"
  },
  "language_info": {
   "codemirror_mode": {
    "name": "ipython",
    "version": 3
   },
   "file_extension": ".py",
   "mimetype": "text/x-python",
   "name": "python",
   "nbconvert_exporter": "python",
   "pygments_lexer": "ipython3",
   "version": "3.6.12"
  }
 },
 "nbformat": 4,
 "nbformat_minor": 2
}
